{
 "cells": [
  {
   "cell_type": "markdown",
   "id": "df45f585",
   "metadata": {},
   "source": [
    "# Visualization of MIMIC Case Timelines\n",
    "\n",
    "This notebook provides an opportunity to explore the temporal nature of data entry for patients. We are using a small sample from the MIMIC2 demo data set. Visualizations are done with [Altair](https://altair-viz.github.io/index.html). I am not a visualization expert and am only a novice with using Altair, so your patience with the visualization is appreciated!\n",
    "\n",
    "## Some Key Points\n",
    "\n",
    "* Altair can ony visualize up to 5000 data points. Some of the patients have many more data points than this in MIMIC2. For Example, case # 10299 had 39931 observations from a month-long hospitalization. Consequently I aggregated chart events and input/output events by subcategories. Visualization of these values is currently poor, but can be seen with the hover tool.\n",
    "* __Microbiology events__, visualized in the bottom chart, have NULL values if no bacteria were identified in the samples. So the displayed values are simply NULL.\n",
    "* When you use the dropdown menu to select a new case, the refreshing of the chart can be a bit slow.\n",
    "* The charts have pan and zoom capability.\n",
    "* You can see more details by hovering the cursor over each circle.\n",
    "* The color of the circles encodes which provider (e.g. nurse, therapist) entered the data. You can clearly see shifts in the care staff over time.\n",
    "\n",
    "#### Note: This notebook will only work in Jupyterlab"
   ]
  },
  {
   "cell_type": "code",
   "execution_count": null,
   "id": "1d89e461",
   "metadata": {},
   "outputs": [],
   "source": [
    "from cdsutils.mvutils import *\n",
    "from ipywidgets import *\n",
    "from IPython.display import display\n",
    "import warnings\n",
    "warnings.simplefilter(\"ignore\")"
   ]
  },
  {
   "cell_type": "code",
   "execution_count": null,
   "id": "59d64259",
   "metadata": {},
   "outputs": [],
   "source": [
    "case_data = read_data()\n",
    "case_list = list(case_data.keys())\n",
    "case_list.sort()"
   ]
  },
  {
   "cell_type": "code",
   "execution_count": null,
   "id": "b7283c7c",
   "metadata": {},
   "outputs": [],
   "source": [
    "out = Output(layout={'border': '1px solid black'})\n",
    "\n",
    "def f1(event):\n",
    "    with out:\n",
    "        display(plot_case(case_data[cs.value]))\n",
    "cs = Dropdown(options=case_list, description=\"Select Case\")\n",
    "cs.observe(f1, names='value')\n",
    "VBox([cs, out])"
   ]
  },
  {
   "cell_type": "code",
   "execution_count": null,
   "id": "efb54b41",
   "metadata": {},
   "outputs": [],
   "source": [
    "@interact(case=case_list)\n",
    "def _plot_case(case):\n",
    "    plt = plot_case(case_data[case])\n",
    "    return plt"
   ]
  },
  {
   "cell_type": "code",
   "execution_count": null,
   "id": "72950b08",
   "metadata": {},
   "outputs": [],
   "source": [
    "import altair\n",
    "altair.__version__"
   ]
  },
  {
   "cell_type": "code",
   "execution_count": null,
   "id": "b71feeb9",
   "metadata": {},
   "outputs": [],
   "source": []
  }
 ],
 "metadata": {
  "kernelspec": {
   "display_name": "Python (mimic-iv)",
   "language": "python",
   "name": "mimic_google"
  },
  "language_info": {
   "codemirror_mode": {
    "name": "ipython",
    "version": 3
   },
   "file_extension": ".py",
   "mimetype": "text/x-python",
   "name": "python",
   "nbconvert_exporter": "python",
   "pygments_lexer": "ipython3",
   "version": "3.7.8"
  }
 },
 "nbformat": 4,
 "nbformat_minor": 4
}
